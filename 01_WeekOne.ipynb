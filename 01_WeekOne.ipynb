{
 "cells": [
  {
   "cell_type": "markdown",
   "metadata": {},
   "source": [
    "# Week One Task"
   ]
  },
  {
   "cell_type": "markdown",
   "metadata": {},
   "source": [
    "### Q: Write a NumPy program to create an array of all even integers from 30 to 70."
   ]
  },
  {
   "cell_type": "code",
   "execution_count": 1,
   "metadata": {},
   "outputs": [
    {
     "name": "stdout",
     "output_type": "stream",
     "text": [
      "Array of even integers from 30 to 70: [30 32 34 36 38 40 42 44 46 48 50 52 54 56 58 60 62 64 66 68 70]\n"
     ]
    }
   ],
   "source": [
    "import numpy as np\n",
    "even_integers = np.arange(30, 71, 2)\n",
    "print(\"Array of even integers from 30 to 70:\", even_integers)"
   ]
  },
  {
   "cell_type": "markdown",
   "metadata": {},
   "source": [
    "We will import Numpy library as np.<br>\n",
    "Than declare a varibale as even_integer.<br>\n",
    "Call the function np.arrange make a list of all the integers from 30 to 71 i.e 70.<br>\n",
    "Than print our list of even numbers.<br>"
   ]
  },
  {
   "cell_type": "markdown",
   "metadata": {},
   "source": [
    "### Q: Write a NumPy program to generate an array of 15 random numbers from a standard normal\n",
    "distribution.\n",
    "#### A: Here's a NumPy code snippet that generates an array of 15 random numbers from a standard normal distribution using the `numpy.random.normal` function:\n"
   ]
  },
  {
   "cell_type": "code",
   "execution_count": 3,
   "metadata": {},
   "outputs": [
    {
     "name": "stdout",
     "output_type": "stream",
     "text": [
      "Array of 15 random numbers from a standard normal distribution: [ 0.82610878 -0.19818386  1.86696648  1.06158977  1.36769018 -1.68827023\n",
      "  0.45812366  0.83658743  1.51849281 -1.08658318  0.16623446 -0.87700485\n",
      "  1.81017497 -1.12155942 -0.57233441]\n"
     ]
    }
   ],
   "source": [
    "import numpy as np\n",
    "random_numbers = np.random.normal(size=15)\n",
    "print(\"Array of 15 random numbers from a standard normal distribution:\", random_numbers)\n"
   ]
  },
  {
   "cell_type": "markdown",
   "metadata": {},
   "source": [
    "In the above example,<br> np.random.normal(size=15) generates an array of 15 random numbers following a standard normal distribution (mean=0, standard deviation=1).\n",
    "\n",
    "\n",
    "\n",
    "\n",
    "\n"
   ]
  },
  {
   "cell_type": "markdown",
   "metadata": {},
   "source": [
    "### Q:How to compute the cross-product of two matrices in NumPy?"
   ]
  },
  {
   "cell_type": "code",
   "execution_count": 4,
   "metadata": {},
   "outputs": [
    {
     "name": "stdout",
     "output_type": "stream",
     "text": [
      "Cross-product of the two matrices:\n",
      "[[-10  20 -10]\n",
      " [-10  20 -10]\n",
      " [-10  20 -10]]\n"
     ]
    }
   ],
   "source": [
    "import numpy as np\n",
    "matrix1 = np.array([[1, 2, 3],\n",
    "                    [4, 5, 6],\n",
    "                    [7, 8, 9]])\n",
    "\n",
    "matrix2 = np.array([[9, 8, 7],\n",
    "                    [6, 5, 4],\n",
    "                    [3, 2, 1]])\n",
    "\n",
    "cross_product = np.cross(matrix1, matrix2)\n",
    "\n",
    "print(\"Cross-product of the two matrices:\")\n",
    "print(cross_product)\n"
   ]
  },
  {
   "cell_type": "markdown",
   "metadata": {},
   "source": [
    "In this example,<br> np.cross(matrix1, matrix2) calculates the cross-product of matrix1 and matrix2.<br> The resulting matrix is printed, showing the cross-product values."
   ]
  },
  {
   "cell_type": "markdown",
   "metadata": {},
   "source": [
    "### Q: How to compute the determinant of an array using NumPy?"
   ]
  },
  {
   "cell_type": "code",
   "execution_count": 5,
   "metadata": {},
   "outputs": [
    {
     "name": "stdout",
     "output_type": "stream",
     "text": [
      "Determinant of the matrix: 10.000000000000002\n"
     ]
    }
   ],
   "source": [
    "import numpy as np\n",
    "matrix = np.array([[4, 7],\n",
    "                   [2, 6]])\n",
    "\n",
    "determinant = np.linalg.det(matrix)\n",
    "print(\"Determinant of the matrix:\", determinant)\n"
   ]
  },
  {
   "cell_type": "markdown",
   "metadata": {},
   "source": [
    "In this example,<br> np.linalg.det(matrix) computes the determinant of the square matrix.<br> Note that the matrix must be square (having the same number of rows and columns) for the determinant to be defined."
   ]
  },
  {
   "cell_type": "markdown",
   "metadata": {},
   "source": [
    "### Q: How to create a 3x3x3 array with random values using NumPy?"
   ]
  },
  {
   "cell_type": "code",
   "execution_count": 6,
   "metadata": {},
   "outputs": [
    {
     "name": "stdout",
     "output_type": "stream",
     "text": [
      "3x3x3 Array with random values:\n",
      "[[[0.75688738 0.55973031 0.49420521]\n",
      "  [0.04974709 0.64190306 0.51238306]\n",
      "  [0.72209162 0.10888168 0.47549515]]\n",
      "\n",
      " [[0.01946996 0.36003871 0.28449575]\n",
      "  [0.57459068 0.7695341  0.98300365]\n",
      "  [0.81535599 0.40533881 0.42203142]]\n",
      "\n",
      " [[0.37134444 0.29447102 0.60406838]\n",
      "  [0.75219796 0.77194608 0.15519072]\n",
      "  [0.47357851 0.68578955 0.26547866]]]\n"
     ]
    }
   ],
   "source": [
    "import numpy as np\n",
    "random_array = np.random.rand(3, 3, 3)\n",
    "print(\"3x3x3 Array with random values:\")\n",
    "print(random_array)\n"
   ]
  },
  {
   "cell_type": "markdown",
   "metadata": {},
   "source": [
    "In this example<br> np.random.rand(3, 3, 3) generates a 3x3x3 array filled with random values between 0 (inclusive) and 1 (exclusive)"
   ]
  },
  {
   "cell_type": "markdown",
   "metadata": {},
   "source": [
    "### Q: How to create a 5x5 array with random values and find the minimum and maximum values using\n",
    "NumPy?"
   ]
  },
  {
   "cell_type": "code",
   "execution_count": 7,
   "metadata": {},
   "outputs": [
    {
     "name": "stdout",
     "output_type": "stream",
     "text": [
      "5x5 Array with random values:\n",
      "[[0.10151892 0.90066669 0.70907943 0.05571676 0.66151189]\n",
      " [0.8180824  0.30450039 0.97431527 0.90122744 0.17695773]\n",
      " [0.27197575 0.90823941 0.62087317 0.59533918 0.15454298]\n",
      " [0.81270428 0.5311883  0.11049869 0.64699527 0.52068865]\n",
      " [0.69891368 0.32877184 0.41143687 0.46062318 0.26668167]]\n",
      "Minimum value: 0.055716756017669455\n",
      "Maximum value: 0.9743152749669002\n"
     ]
    }
   ],
   "source": [
    "import numpy as np\n",
    "random_array = np.random.rand(5, 5)\n",
    "print(\"5x5 Array with random values:\")\n",
    "print(random_array)\n",
    "\n",
    "minimum_value = np.min(random_array)\n",
    "maximum_value = np.max(random_array)\n",
    "\n",
    "print(\"Minimum value:\", minimum_value)\n",
    "print(\"Maximum value:\", maximum_value)\n"
   ]
  },
  {
   "cell_type": "markdown",
   "metadata": {},
   "source": [
    "In this example,<br> np.random.rand(5, 5) generates a 5x5 array filled with random values between 0 (inclusive) and 1 (exclusive). The np.min and np.max functions are then used to find the minimum and maximum values in the array, respectively. The results are printed for reference."
   ]
  },
  {
   "cell_type": "markdown",
   "metadata": {},
   "source": [
    "### Q: How to compute the mean, standard deviation, and variance of a given array along the second axis in NumPy?"
   ]
  },
  {
   "cell_type": "code",
   "execution_count": 9,
   "metadata": {},
   "outputs": [
    {
     "name": "stdout",
     "output_type": "stream",
     "text": [
      "Mean along the second axis: [2. 5. 8.]\n",
      "Standard deviation along the second axis: [0.81649658 0.81649658 0.81649658]\n",
      "Variance along the second axis: [0.66666667 0.66666667 0.66666667]\n"
     ]
    }
   ],
   "source": [
    "import numpy as np\n",
    "\n",
    "sample_array = np.array([[1, 2, 3],\n",
    "                         [4, 5, 6],\n",
    "                         [7, 8, 9]])\n",
    "\n",
    "mean_values = np.mean(sample_array, axis=1)\n",
    "\n",
    "std_deviation_values = np.std(sample_array, axis=1)\n",
    "\n",
    "variance_values = np.var(sample_array, axis=1)\n",
    "\n",
    "print(\"Mean along the second axis:\", mean_values)\n",
    "print(\"Standard deviation along the second axis:\", std_deviation_values)\n",
    "print(\"Variance along the second axis:\", variance_values)\n"
   ]
  },
  {
   "cell_type": "markdown",
   "metadata": {},
   "source": [
    "In this example,<br> axis=1 specifies that the calculations should be performed along the second axis (columns). "
   ]
  },
  {
   "cell_type": "markdown",
   "metadata": {},
   "source": []
  },
  {
   "cell_type": "code",
   "execution_count": null,
   "metadata": {},
   "outputs": [],
   "source": []
  }
 ],
 "metadata": {
  "kernelspec": {
   "display_name": "python_eda",
   "language": "python",
   "name": "python3"
  },
  "language_info": {
   "codemirror_mode": {
    "name": "ipython",
    "version": 3
   },
   "file_extension": ".py",
   "mimetype": "text/x-python",
   "name": "python",
   "nbconvert_exporter": "python",
   "pygments_lexer": "ipython3",
   "version": "3.12.0"
  }
 },
 "nbformat": 4,
 "nbformat_minor": 2
}
