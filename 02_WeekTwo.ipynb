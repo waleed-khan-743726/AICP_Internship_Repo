{
 "cells": [
  {
   "cell_type": "markdown",
   "metadata": {},
   "source": [
    "# WEEK TWO _ TASK"
   ]
  },
  {
   "cell_type": "markdown",
   "metadata": {},
   "source": [
    "### Q.1: Writer pandas series code to get following output without using dictionary:"
   ]
  },
  {
   "cell_type": "markdown",
   "metadata": {},
   "source": [
    "Dictionary: Dictionaries are used to store data values in key:value pairs.\n",
    "\n",
    "A dictionary is a collection which is ordered*, changeable and do not allow duplicates."
   ]
  },
  {
   "cell_type": "code",
   "execution_count": 4,
   "metadata": {},
   "outputs": [],
   "source": [
    "import pandas as pd"
   ]
  },
  {
   "cell_type": "code",
   "execution_count": 5,
   "metadata": {},
   "outputs": [
    {
     "name": "stdout",
     "output_type": "stream",
     "text": [
      "{'a': 1, 'x': 4, 'c': 9, 2: 6, 'e': 7}\n"
     ]
    }
   ],
   "source": [
    "this_dict={'a':1,'x':4,'c':9,2:6,'e':7}\n",
    "print(this_dict)"
   ]
  },
  {
   "cell_type": "markdown",
   "metadata": {},
   "source": [
    "Now as we have to print the dictinoray key and values in column as required in question:"
   ]
  },
  {
   "cell_type": "code",
   "execution_count": 6,
   "metadata": {},
   "outputs": [
    {
     "name": "stdout",
     "output_type": "stream",
     "text": [
      "Key\tValue\n",
      "a\t1\n",
      "x\t4\n",
      "c\t9\n",
      "2\t6\n",
      "e\t7\n"
     ]
    }
   ],
   "source": [
    "print(\"Key\\tValue\")\n",
    "for key, value in this_dict.items():\n",
    "    print(f\"{key}\\t{value}\")"
   ]
  },
  {
   "cell_type": "markdown",
   "metadata": {},
   "source": [
    "Explaination of using FOR LOOP : This line prints the headers for the columns, indicating that the first column represents keys and the second column represents values. \"\\t\" is a tab character, which creates a space between \"Key\" and \"Value\" for better alignment.\n",
    "\n",
    "This loop iterates through each key-value pair in the dictionary this_dict using the items() method. For each pair, it prints the key and the corresponding value separated by a tab character. This results in printing each key-value pair in separate rows with the key and value aligned under their respective columns."
   ]
  },
  {
   "cell_type": "markdown",
   "metadata": {},
   "source": [
    "### Q.2: Writer pandas series code to get following output using dictionary:\n",
    "        Bilal   42\n",
    "        Ayesha  38\n",
    "        Hadia   39"
   ]
  },
  {
   "cell_type": "markdown",
   "metadata": {},
   "source": [
    "We will follow the same procedure as we have done in above question"
   ]
  },
  {
   "cell_type": "code",
   "execution_count": 7,
   "metadata": {},
   "outputs": [
    {
     "name": "stdout",
     "output_type": "stream",
     "text": [
      "{'Bilal': 42, 'Ayesha': 38, 'Hadia': 39}\n"
     ]
    }
   ],
   "source": [
    "Name_dict={'Bilal':42,\"Ayesha\":38,\"Hadia\":39}\n",
    "print(Name_dict)"
   ]
  },
  {
   "cell_type": "code",
   "execution_count": 8,
   "metadata": {},
   "outputs": [
    {
     "name": "stdout",
     "output_type": "stream",
     "text": [
      "Key\tValue\n",
      "Bilal\t42\n",
      "Ayesha\t38\n",
      "Hadia\t39\n"
     ]
    }
   ],
   "source": [
    "print(\"Key\\tValue\")\n",
    "for key, value in Name_dict.items():\n",
    "    print(f\"{key}\\t{value}\")"
   ]
  },
  {
   "cell_type": "markdown",
   "metadata": {},
   "source": [
    "### Q.3: Write pandas dataframe code to get following output using python dictionary"
   ]
  },
  {
   "cell_type": "code",
   "execution_count": 9,
   "metadata": {},
   "outputs": [],
   "source": [
    "dataframe={ \n",
    "    'Day':[1/1/2017,1/2/2017,1/3/2017,1/4/2017,1/5/2017,1/6/2017],\n",
    "    'Temperature':[32,35,28,24,32,31],\n",
    "    'Windspeed':[6,7,2,7,4,2],\n",
    "    'Event':[\"Rain\",\"Sunny\",\"Snow\",'Snow','Rain',\"Sunny\"]\n",
    "\n",
    "}"
   ]
  },
  {
   "cell_type": "code",
   "execution_count": 10,
   "metadata": {},
   "outputs": [
    {
     "name": "stdout",
     "output_type": "stream",
     "text": [
      "        Day  Temperature  Windspeed  Event\n",
      "0  0.000496           32          6   Rain\n",
      "1  0.000248           35          7  Sunny\n",
      "2  0.000165           28          2   Snow\n",
      "3  0.000124           24          7   Snow\n",
      "4  0.000099           32          4   Rain\n",
      "5  0.000083           31          2  Sunny\n"
     ]
    }
   ],
   "source": [
    "df=pd.DataFrame(dataframe)\n",
    "print(df)"
   ]
  },
  {
   "cell_type": "markdown",
   "metadata": {},
   "source": [
    "### Q.4: In extension to above question, you are required to replace index by ['a','b','c','d','e','f']\n"
   ]
  },
  {
   "cell_type": "code",
   "execution_count": 11,
   "metadata": {},
   "outputs": [],
   "source": [
    "df.index = ['a', 'b', 'c', 'd', 'e', 'f']"
   ]
  },
  {
   "cell_type": "code",
   "execution_count": 12,
   "metadata": {},
   "outputs": [
    {
     "name": "stdout",
     "output_type": "stream",
     "text": [
      "        Day  Temperature  Windspeed  Event\n",
      "a  0.000496           32          6   Rain\n",
      "b  0.000248           35          7  Sunny\n",
      "c  0.000165           28          2   Snow\n",
      "d  0.000124           24          7   Snow\n",
      "e  0.000099           32          4   Rain\n",
      "f  0.000083           31          2  Sunny\n"
     ]
    }
   ],
   "source": [
    "print(df)"
   ]
  },
  {
   "cell_type": "markdown",
   "metadata": {},
   "source": [
    "### Q.5: In extension to above Q.3, calculate mean, miximum and minimum for label “temperature”"
   ]
  },
  {
   "cell_type": "code",
   "execution_count": 13,
   "metadata": {},
   "outputs": [
    {
     "data": {
      "text/plain": [
       "30.333333333333332"
      ]
     },
     "execution_count": 13,
     "metadata": {},
     "output_type": "execute_result"
    }
   ],
   "source": [
    "df[\"Temperature\"].mean()"
   ]
  },
  {
   "cell_type": "code",
   "execution_count": 14,
   "metadata": {},
   "outputs": [
    {
     "data": {
      "text/plain": [
       "35"
      ]
     },
     "execution_count": 14,
     "metadata": {},
     "output_type": "execute_result"
    }
   ],
   "source": [
    "df[\"Temperature\"].max()"
   ]
  },
  {
   "cell_type": "code",
   "execution_count": 15,
   "metadata": {},
   "outputs": [
    {
     "data": {
      "text/plain": [
       "24"
      ]
     },
     "execution_count": 15,
     "metadata": {},
     "output_type": "execute_result"
    }
   ],
   "source": [
    "df[\"Temperature\"].min()"
   ]
  },
  {
   "cell_type": "markdown",
   "metadata": {},
   "source": [
    "### Q.6: Import CSV ‘people.csv’ in the given folder. Keep in mind the following instructions:\n",
    "You’re required to import only specific columns [\"First Name\", \"Sex\", \"Email\", “Phone”, “Job Title”]<br>\n",
    "Set the following columns [\"Sex\", \"Job Title\"] as index columns<br>\n",
    "Skip following rows [1,5]<br>\n",
    "Export the CSV as “NewPeople.csv”<br>\n"
   ]
  },
  {
   "cell_type": "markdown",
   "metadata": {},
   "source": [
    "Importing file"
   ]
  },
  {
   "cell_type": "code",
   "execution_count": 16,
   "metadata": {},
   "outputs": [
    {
     "name": "stderr",
     "output_type": "stream",
     "text": [
      "<>:1: SyntaxWarning: invalid escape sequence '\\A'\n",
      "<>:1: SyntaxWarning: invalid escape sequence '\\A'\n",
      "C:\\Users\\USER\\AppData\\Local\\Temp\\ipykernel_3088\\2635795156.py:1: SyntaxWarning: invalid escape sequence '\\A'\n",
      "  file_path=\"./D:\\AICP_Internship\\Internship_project\"\n"
     ]
    }
   ],
   "source": [
    "file_path=\"./D:\\AICP_Internship\\Internship_project\""
   ]
  },
  {
   "cell_type": "code",
   "execution_count": 25,
   "metadata": {},
   "outputs": [],
   "source": [
    "columns_to_import = [\"First Name\", \"Sex\", \"Email\", \"Phone\", \"Job Title\"]"
   ]
  },
  {
   "cell_type": "code",
   "execution_count": 26,
   "metadata": {},
   "outputs": [],
   "source": [
    "df=pd.read_csv('people.csv',usecols=columns_to_import)"
   ]
  },
  {
   "cell_type": "code",
   "execution_count": 27,
   "metadata": {},
   "outputs": [
    {
     "name": "stdout",
     "output_type": "stream",
     "text": [
      "<class 'pandas.core.frame.DataFrame'>\n",
      "RangeIndex: 100 entries, 0 to 99\n",
      "Data columns (total 5 columns):\n",
      " #   Column      Non-Null Count  Dtype \n",
      "---  ------      --------------  ----- \n",
      " 0   First Name  100 non-null    object\n",
      " 1   Sex         100 non-null    object\n",
      " 2   Email       100 non-null    object\n",
      " 3   Phone       100 non-null    object\n",
      " 4   Job Title   100 non-null    object\n",
      "dtypes: object(5)\n",
      "memory usage: 4.0+ KB\n"
     ]
    }
   ],
   "source": [
    "df.info()"
   ]
  },
  {
   "cell_type": "markdown",
   "metadata": {},
   "source": [
    "As we can see, We have only import the specific columns that are  needed for this task."
   ]
  },
  {
   "cell_type": "markdown",
   "metadata": {},
   "source": [
    "Set the following columns [\"Sex\", \"Job Title\"] as index columns"
   ]
  },
  {
   "cell_type": "code",
   "execution_count": 28,
   "metadata": {},
   "outputs": [
    {
     "name": "stdout",
     "output_type": "stream",
     "text": [
      "                             First Name                       Email  \\\n",
      "Sex    Job Title                                                      \n",
      "Male   Games developer           Shelby        elijah57@example.net   \n",
      "Female Phytotherapist           Phillip       bethany14@example.com   \n",
      "Male   Homeopath               Kristine       bthompson@example.com   \n",
      "       Market researcher        Yesenia   kaitlinkaiser@example.com   \n",
      "       Veterinary surgeon          Lori  buchananmanuel@example.net   \n",
      "...                                 ...                         ...   \n",
      "Female Software engineer         Dennis         bmartin@example.org   \n",
      "       Barrister                  Steve       latasha46@example.net   \n",
      "Male   Police officer            Wesley        regina11@example.org   \n",
      "Female Broadcast journalist      Summer  alexiscantrell@example.org   \n",
      "Male   IT sales professional     Mariah       pcopeland@example.org   \n",
      "\n",
      "                                               Phone  \n",
      "Sex    Job Title                                      \n",
      "Male   Games developer        001-084-906-7849x73518  \n",
      "Female Phytotherapist              214.112.6044x4913  \n",
      "Male   Homeopath                        277.609.7938  \n",
      "       Market researcher                584.094.6111  \n",
      "       Veterinary surgeon          689-207-3558x7233  \n",
      "...                                              ...  \n",
      "Female Software engineer        001-095-524-2112x257  \n",
      "       Barrister                    001-865-478-5157  \n",
      "Male   Police officer             995-542-3004x76800  \n",
      "Female Broadcast journalist     001-273-685-6932x092  \n",
      "Male   IT sales professional     (341)594-6554x44657  \n",
      "\n",
      "[100 rows x 3 columns]\n"
     ]
    }
   ],
   "source": [
    "# This set the index as Sex and Job Title\n",
    "df.set_index([\"Sex\", \"Job Title\"], inplace=True)\n",
    "print(df)\n"
   ]
  },
  {
   "cell_type": "code",
   "execution_count": 29,
   "metadata": {},
   "outputs": [
    {
     "data": {
      "text/html": [
       "<div>\n",
       "<style scoped>\n",
       "    .dataframe tbody tr th:only-of-type {\n",
       "        vertical-align: middle;\n",
       "    }\n",
       "\n",
       "    .dataframe tbody tr th {\n",
       "        vertical-align: top;\n",
       "    }\n",
       "\n",
       "    .dataframe thead th {\n",
       "        text-align: right;\n",
       "    }\n",
       "</style>\n",
       "<table border=\"1\" class=\"dataframe\">\n",
       "  <thead>\n",
       "    <tr style=\"text-align: right;\">\n",
       "      <th></th>\n",
       "      <th></th>\n",
       "      <th>First Name</th>\n",
       "      <th>Email</th>\n",
       "      <th>Phone</th>\n",
       "    </tr>\n",
       "    <tr>\n",
       "      <th>Sex</th>\n",
       "      <th>Job Title</th>\n",
       "      <th></th>\n",
       "      <th></th>\n",
       "      <th></th>\n",
       "    </tr>\n",
       "  </thead>\n",
       "  <tbody>\n",
       "    <tr>\n",
       "      <th>Male</th>\n",
       "      <th>Games developer</th>\n",
       "      <td>Shelby</td>\n",
       "      <td>elijah57@example.net</td>\n",
       "      <td>001-084-906-7849x73518</td>\n",
       "    </tr>\n",
       "    <tr>\n",
       "      <th>Female</th>\n",
       "      <th>Phytotherapist</th>\n",
       "      <td>Phillip</td>\n",
       "      <td>bethany14@example.com</td>\n",
       "      <td>214.112.6044x4913</td>\n",
       "    </tr>\n",
       "    <tr>\n",
       "      <th rowspan=\"3\" valign=\"top\">Male</th>\n",
       "      <th>Homeopath</th>\n",
       "      <td>Kristine</td>\n",
       "      <td>bthompson@example.com</td>\n",
       "      <td>277.609.7938</td>\n",
       "    </tr>\n",
       "    <tr>\n",
       "      <th>Market researcher</th>\n",
       "      <td>Yesenia</td>\n",
       "      <td>kaitlinkaiser@example.com</td>\n",
       "      <td>584.094.6111</td>\n",
       "    </tr>\n",
       "    <tr>\n",
       "      <th>Veterinary surgeon</th>\n",
       "      <td>Lori</td>\n",
       "      <td>buchananmanuel@example.net</td>\n",
       "      <td>689-207-3558x7233</td>\n",
       "    </tr>\n",
       "  </tbody>\n",
       "</table>\n",
       "</div>"
      ],
      "text/plain": [
       "                          First Name                       Email  \\\n",
       "Sex    Job Title                                                   \n",
       "Male   Games developer        Shelby        elijah57@example.net   \n",
       "Female Phytotherapist        Phillip       bethany14@example.com   \n",
       "Male   Homeopath            Kristine       bthompson@example.com   \n",
       "       Market researcher     Yesenia   kaitlinkaiser@example.com   \n",
       "       Veterinary surgeon       Lori  buchananmanuel@example.net   \n",
       "\n",
       "                                            Phone  \n",
       "Sex    Job Title                                   \n",
       "Male   Games developer     001-084-906-7849x73518  \n",
       "Female Phytotherapist           214.112.6044x4913  \n",
       "Male   Homeopath                     277.609.7938  \n",
       "       Market researcher             584.094.6111  \n",
       "       Veterinary surgeon       689-207-3558x7233  "
      ]
     },
     "execution_count": 29,
     "metadata": {},
     "output_type": "execute_result"
    }
   ],
   "source": [
    "df.head()"
   ]
  },
  {
   "cell_type": "markdown",
   "metadata": {},
   "source": [
    "Skip following rows[1,5]"
   ]
  },
  {
   "cell_type": "code",
   "execution_count": 30,
   "metadata": {},
   "outputs": [],
   "source": [
    "rows_to_skip = [1, 5]"
   ]
  },
  {
   "cell_type": "code",
   "execution_count": 33,
   "metadata": {},
   "outputs": [],
   "source": [
    "df = pd.read_csv('people.csv', usecols=columns_to_import, skiprows=rows_to_skip)"
   ]
  },
  {
   "cell_type": "code",
   "execution_count": 34,
   "metadata": {},
   "outputs": [
    {
     "data": {
      "text/html": [
       "<div>\n",
       "<style scoped>\n",
       "    .dataframe tbody tr th:only-of-type {\n",
       "        vertical-align: middle;\n",
       "    }\n",
       "\n",
       "    .dataframe tbody tr th {\n",
       "        vertical-align: top;\n",
       "    }\n",
       "\n",
       "    .dataframe thead th {\n",
       "        text-align: right;\n",
       "    }\n",
       "</style>\n",
       "<table border=\"1\" class=\"dataframe\">\n",
       "  <thead>\n",
       "    <tr style=\"text-align: right;\">\n",
       "      <th></th>\n",
       "      <th>First Name</th>\n",
       "      <th>Sex</th>\n",
       "      <th>Email</th>\n",
       "      <th>Phone</th>\n",
       "      <th>Job Title</th>\n",
       "    </tr>\n",
       "  </thead>\n",
       "  <tbody>\n",
       "    <tr>\n",
       "      <th>0</th>\n",
       "      <td>Phillip</td>\n",
       "      <td>Female</td>\n",
       "      <td>bethany14@example.com</td>\n",
       "      <td>214.112.6044x4913</td>\n",
       "      <td>Phytotherapist</td>\n",
       "    </tr>\n",
       "    <tr>\n",
       "      <th>1</th>\n",
       "      <td>Kristine</td>\n",
       "      <td>Male</td>\n",
       "      <td>bthompson@example.com</td>\n",
       "      <td>277.609.7938</td>\n",
       "      <td>Homeopath</td>\n",
       "    </tr>\n",
       "    <tr>\n",
       "      <th>2</th>\n",
       "      <td>Yesenia</td>\n",
       "      <td>Male</td>\n",
       "      <td>kaitlinkaiser@example.com</td>\n",
       "      <td>584.094.6111</td>\n",
       "      <td>Market researcher</td>\n",
       "    </tr>\n",
       "    <tr>\n",
       "      <th>3</th>\n",
       "      <td>Erin</td>\n",
       "      <td>Male</td>\n",
       "      <td>tconner@example.org</td>\n",
       "      <td>001-171-649-9856x5553</td>\n",
       "      <td>Waste management officer</td>\n",
       "    </tr>\n",
       "    <tr>\n",
       "      <th>4</th>\n",
       "      <td>Katherine</td>\n",
       "      <td>Female</td>\n",
       "      <td>conniecowan@example.com</td>\n",
       "      <td>+1-773-151-6685x49162</td>\n",
       "      <td>Intelligence analyst</td>\n",
       "    </tr>\n",
       "  </tbody>\n",
       "</table>\n",
       "</div>"
      ],
      "text/plain": [
       "  First Name     Sex                      Email                  Phone  \\\n",
       "0    Phillip  Female      bethany14@example.com      214.112.6044x4913   \n",
       "1   Kristine    Male      bthompson@example.com           277.609.7938   \n",
       "2    Yesenia    Male  kaitlinkaiser@example.com           584.094.6111   \n",
       "3       Erin    Male        tconner@example.org  001-171-649-9856x5553   \n",
       "4  Katherine  Female    conniecowan@example.com  +1-773-151-6685x49162   \n",
       "\n",
       "                  Job Title  \n",
       "0            Phytotherapist  \n",
       "1                 Homeopath  \n",
       "2         Market researcher  \n",
       "3  Waste management officer  \n",
       "4      Intelligence analyst  "
      ]
     },
     "execution_count": 34,
     "metadata": {},
     "output_type": "execute_result"
    }
   ],
   "source": [
    "df.head()"
   ]
  },
  {
   "cell_type": "markdown",
   "metadata": {},
   "source": [
    "Export the CSV as “NewPeople.csv”"
   ]
  },
  {
   "cell_type": "code",
   "execution_count": 36,
   "metadata": {},
   "outputs": [
    {
     "name": "stdout",
     "output_type": "stream",
     "text": [
      "DataFrame has been exported to NewPeople.csv\n"
     ]
    }
   ],
   "source": [
    "df.to_csv(\"NewPeople.csv\")\n",
    "print(\"DataFrame has been exported to NewPeople.csv\")"
   ]
  },
  {
   "cell_type": "markdown",
   "metadata": {},
   "source": [
    "### Q.7: Import excel sheet ‘SampleWork.xlsx’ in the given folder. Keep in mind the following instructions:\n",
    "Import sheet 1<br>\n",
    "Import only first and last column from sheet 1<br>\n",
    "Skip row 2 while importing the sheet<br>\n",
    "Set row 2 as header<br>\n",
    "export as new sheet.<br>\n"
   ]
  },
  {
   "cell_type": "markdown",
   "metadata": {},
   "source": [
    "* Import sheet 1"
   ]
  },
  {
   "cell_type": "code",
   "execution_count": 41,
   "metadata": {},
   "outputs": [],
   "source": [
    "df=pd.read_excel(\"SampleWork.xlsx\",sheet_name=0)"
   ]
  },
  {
   "cell_type": "code",
   "execution_count": 42,
   "metadata": {},
   "outputs": [
    {
     "data": {
      "text/html": [
       "<div>\n",
       "<style scoped>\n",
       "    .dataframe tbody tr th:only-of-type {\n",
       "        vertical-align: middle;\n",
       "    }\n",
       "\n",
       "    .dataframe tbody tr th {\n",
       "        vertical-align: top;\n",
       "    }\n",
       "\n",
       "    .dataframe thead th {\n",
       "        text-align: right;\n",
       "    }\n",
       "</style>\n",
       "<table border=\"1\" class=\"dataframe\">\n",
       "  <thead>\n",
       "    <tr style=\"text-align: right;\">\n",
       "      <th></th>\n",
       "      <th>Name</th>\n",
       "      <th>Age</th>\n",
       "      <th>Stream</th>\n",
       "      <th>Percentage</th>\n",
       "    </tr>\n",
       "  </thead>\n",
       "  <tbody>\n",
       "    <tr>\n",
       "      <th>0</th>\n",
       "      <td>Amir</td>\n",
       "      <td>18</td>\n",
       "      <td>Math</td>\n",
       "      <td>95</td>\n",
       "    </tr>\n",
       "    <tr>\n",
       "      <th>1</th>\n",
       "      <td>Bilal</td>\n",
       "      <td>19</td>\n",
       "      <td>Science</td>\n",
       "      <td>90</td>\n",
       "    </tr>\n",
       "    <tr>\n",
       "      <th>2</th>\n",
       "      <td>Sufyan</td>\n",
       "      <td>20</td>\n",
       "      <td>Comerce</td>\n",
       "      <td>85</td>\n",
       "    </tr>\n",
       "    <tr>\n",
       "      <th>3</th>\n",
       "      <td>Saiqa</td>\n",
       "      <td>18</td>\n",
       "      <td>Math</td>\n",
       "      <td>80</td>\n",
       "    </tr>\n",
       "    <tr>\n",
       "      <th>4</th>\n",
       "      <td>Aimen</td>\n",
       "      <td>32</td>\n",
       "      <td>Science</td>\n",
       "      <td>75</td>\n",
       "    </tr>\n",
       "  </tbody>\n",
       "</table>\n",
       "</div>"
      ],
      "text/plain": [
       "     Name  Age   Stream  Percentage\n",
       "0    Amir   18     Math          95\n",
       "1   Bilal   19  Science          90\n",
       "2  Sufyan   20  Comerce          85\n",
       "3   Saiqa   18     Math          80\n",
       "4   Aimen   32  Science          75"
      ]
     },
     "execution_count": 42,
     "metadata": {},
     "output_type": "execute_result"
    }
   ],
   "source": [
    "df.head()"
   ]
  },
  {
   "cell_type": "markdown",
   "metadata": {},
   "source": [
    "* Import only first and last column from sheet 1"
   ]
  },
  {
   "cell_type": "code",
   "execution_count": 49,
   "metadata": {},
   "outputs": [],
   "source": [
    "columns_to_import = [0, 3]\n",
    "#selecting the columns we want to import"
   ]
  },
  {
   "cell_type": "code",
   "execution_count": 50,
   "metadata": {},
   "outputs": [],
   "source": [
    "df=pd.read_excel(\"SampleWork.xlsx\",sheet_name=0,usecols=columns_to_import)"
   ]
  },
  {
   "cell_type": "code",
   "execution_count": 51,
   "metadata": {},
   "outputs": [
    {
     "name": "stdout",
     "output_type": "stream",
     "text": [
      "     Name  Percentage\n",
      "0    Amir          95\n",
      "1   Bilal          90\n",
      "2  Sufyan          85\n",
      "3   Saiqa          80\n",
      "4   Aimen          75\n"
     ]
    }
   ],
   "source": [
    "print(df)"
   ]
  },
  {
   "cell_type": "markdown",
   "metadata": {},
   "source": [
    "* Skip row 2 while importing the sheet"
   ]
  },
  {
   "cell_type": "code",
   "execution_count": 58,
   "metadata": {},
   "outputs": [],
   "source": [
    "rows_to_skip = [1]\n",
    "#select the row we want to skip"
   ]
  },
  {
   "cell_type": "code",
   "execution_count": 59,
   "metadata": {},
   "outputs": [],
   "source": [
    "df=pd.read_excel(\"SampleWork.xlsx\",sheet_name=0,usecols=columns_to_import,skiprows=rows_to_skip)"
   ]
  },
  {
   "cell_type": "code",
   "execution_count": 60,
   "metadata": {},
   "outputs": [
    {
     "name": "stdout",
     "output_type": "stream",
     "text": [
      "     Name  Percentage\n",
      "0   Bilal          90\n",
      "1  Sufyan          85\n",
      "2   Saiqa          80\n",
      "3   Aimen          75\n"
     ]
    }
   ],
   "source": [
    "print(df)"
   ]
  },
  {
   "cell_type": "markdown",
   "metadata": {},
   "source": [
    "* Set row 2 as header"
   ]
  },
  {
   "cell_type": "code",
   "execution_count": 62,
   "metadata": {},
   "outputs": [
    {
     "name": "stdout",
     "output_type": "stream",
     "text": [
      "     Amir  95\n",
      "0   Bilal  90\n",
      "1  Sufyan  85\n",
      "2   Saiqa  80\n",
      "3   Aimen  75\n"
     ]
    }
   ],
   "source": [
    "df=pd.read_excel(\"SampleWork.xlsx\",sheet_name=0,usecols=columns_to_import,header=1)\n",
    "print(df)"
   ]
  },
  {
   "cell_type": "markdown",
   "metadata": {},
   "source": [
    "* export as new sheet."
   ]
  },
  {
   "cell_type": "code",
   "execution_count": 80,
   "metadata": {},
   "outputs": [],
   "source": [
    "writer = pd.ExcelWriter(\"SampleWork.xlsx\", engine='openpyxl', mode='a')\n",
    "\n"
   ]
  },
  {
   "cell_type": "code",
   "execution_count": 83,
   "metadata": {},
   "outputs": [],
   "source": [
    "df.to_excel(writer, sheet_name='New_SHeet', index=False)"
   ]
  },
  {
   "cell_type": "code",
   "execution_count": 84,
   "metadata": {},
   "outputs": [],
   "source": [
    "writer.close()"
   ]
  },
  {
   "cell_type": "markdown",
   "metadata": {},
   "source": [
    "### Q.8: Create the following dataframe as AICP_DF then implement different operations as described below:\n",
    "select 'Name', 'Qualification' coloumns and save to df1\n",
    "add a new column to AICP_DF “Height” with the following values: [5.1, 6.2, 5.1, 5.2,5.1]\n",
    "set column “Name” as the index column.\n",
    "retrieve row with index “Hifza”\n",
    "retrieve row with index 3\n",
    "drop row with index “Bilal"
   ]
  },
  {
   "cell_type": "code",
   "execution_count": 85,
   "metadata": {},
   "outputs": [],
   "source": [
    "aicp_df={\n",
    "    'Name':['Sonia',\"Bilal\",\"Haifza\",'Kabir','Jazim'],\n",
    "    'Age':[27,24,22,32,23],\n",
    "    'Addres':['Lahore','Karachi','Sialkot','Peshawar','lhr'],\n",
    "    'Qualification':['Msc','MA','MCA','Phd','bsc']\n",
    "}"
   ]
  },
  {
   "cell_type": "code",
   "execution_count": 87,
   "metadata": {},
   "outputs": [
    {
     "name": "stdout",
     "output_type": "stream",
     "text": [
      "     Name  Age    Addres Qualification\n",
      "0   Sonia   27    Lahore           Msc\n",
      "1   Bilal   24   Karachi            MA\n",
      "2  Haifza   22   Sialkot           MCA\n",
      "3   Kabir   32  Peshawar           Phd\n",
      "4   Jazim   23       lhr           bsc\n"
     ]
    }
   ],
   "source": [
    "AICP_DF=pd.DataFrame(aicp_df)\n",
    "print(AICP_DF)"
   ]
  },
  {
   "cell_type": "markdown",
   "metadata": {},
   "source": [
    "* select 'Name', 'Qualification' coloumns and save to df1"
   ]
  },
  {
   "cell_type": "code",
   "execution_count": 96,
   "metadata": {},
   "outputs": [],
   "source": [
    "df1=AICP_DF[['Name','Qualification']]"
   ]
  },
  {
   "cell_type": "code",
   "execution_count": 97,
   "metadata": {},
   "outputs": [
    {
     "name": "stdout",
     "output_type": "stream",
     "text": [
      "     Name Qualification\n",
      "0   Sonia           Msc\n",
      "1   Bilal            MA\n",
      "2  Haifza           MCA\n",
      "3   Kabir           Phd\n",
      "4   Jazim           bsc\n"
     ]
    }
   ],
   "source": [
    "print(df1)"
   ]
  },
  {
   "cell_type": "markdown",
   "metadata": {},
   "source": [
    "* add a new column to AICP_DF “Height” with the following values: [5.1, 6.2, 5.1, 5.2,5.1]"
   ]
  },
  {
   "cell_type": "code",
   "execution_count": 98,
   "metadata": {},
   "outputs": [
    {
     "name": "stdout",
     "output_type": "stream",
     "text": [
      "     Name  Age    Addres Qualification  Hegiht\n",
      "0   Sonia   27    Lahore           Msc     5.1\n",
      "1   Bilal   24   Karachi            MA     6.2\n",
      "2  Haifza   22   Sialkot           MCA     5.1\n",
      "3   Kabir   32  Peshawar           Phd     5.2\n",
      "4   Jazim   23       lhr           bsc     5.1\n"
     ]
    }
   ],
   "source": [
    "height_values=[5.1,6.2,5.1,5.2,5.1]\n",
    "AICP_DF[\"Hegiht\"]=height_values\n",
    "print(AICP_DF)"
   ]
  },
  {
   "cell_type": "markdown",
   "metadata": {},
   "source": [
    "* set column “Name” as the index column"
   ]
  },
  {
   "cell_type": "code",
   "execution_count": 99,
   "metadata": {},
   "outputs": [
    {
     "name": "stdout",
     "output_type": "stream",
     "text": [
      "        Age    Addres Qualification  Hegiht\n",
      "Name                                       \n",
      "Sonia    27    Lahore           Msc     5.1\n",
      "Bilal    24   Karachi            MA     6.2\n",
      "Haifza   22   Sialkot           MCA     5.1\n",
      "Kabir    32  Peshawar           Phd     5.2\n",
      "Jazim    23       lhr           bsc     5.1\n"
     ]
    }
   ],
   "source": [
    "AICP_DF.set_index('Name', inplace=True)\n",
    "print(AICP_DF)"
   ]
  },
  {
   "cell_type": "markdown",
   "metadata": {},
   "source": [
    "* retrieve row with index “Hifza”"
   ]
  },
  {
   "cell_type": "markdown",
   "metadata": {},
   "source": []
  },
  {
   "cell_type": "code",
   "execution_count": 102,
   "metadata": {},
   "outputs": [
    {
     "name": "stdout",
     "output_type": "stream",
     "text": [
      "Age                   22\n",
      "Addres           Sialkot\n",
      "Qualification        MCA\n",
      "Hegiht               5.1\n",
      "Name: Haifza, dtype: object\n"
     ]
    }
   ],
   "source": [
    "row_haifza = AICP_DF.loc[\"Haifza\"]\n",
    "print(row_haifza)\n"
   ]
  },
  {
   "cell_type": "markdown",
   "metadata": {},
   "source": [
    "* retrieve row with index 3"
   ]
  },
  {
   "cell_type": "code",
   "execution_count": 106,
   "metadata": {},
   "outputs": [
    {
     "name": "stdout",
     "output_type": "stream",
     "text": [
      "Age                    32\n",
      "Addres           Peshawar\n",
      "Qualification         Phd\n",
      "Hegiht                5.2\n",
      "Name: Kabir, dtype: object\n"
     ]
    }
   ],
   "source": [
    "row_index = AICP_DF.loc['Kabir']\n",
    "print(row_index)"
   ]
  },
  {
   "cell_type": "markdown",
   "metadata": {},
   "source": [
    "* drop row with index “Bilal"
   ]
  },
  {
   "cell_type": "code",
   "execution_count": 107,
   "metadata": {},
   "outputs": [
    {
     "name": "stdout",
     "output_type": "stream",
     "text": [
      "        Age    Addres Qualification  Hegiht\n",
      "Name                                       \n",
      "Sonia    27    Lahore           Msc     5.1\n",
      "Haifza   22   Sialkot           MCA     5.1\n",
      "Kabir    32  Peshawar           Phd     5.2\n",
      "Jazim    23       lhr           bsc     5.1\n"
     ]
    }
   ],
   "source": [
    "AICP_DF.drop(index=\"Bilal\", inplace=True)\n",
    "print(AICP_DF)"
   ]
  },
  {
   "cell_type": "code",
   "execution_count": null,
   "metadata": {},
   "outputs": [],
   "source": []
  }
 ],
 "metadata": {
  "kernelspec": {
   "display_name": "python_eda",
   "language": "python",
   "name": "python3"
  },
  "language_info": {
   "codemirror_mode": {
    "name": "ipython",
    "version": 3
   },
   "file_extension": ".py",
   "mimetype": "text/x-python",
   "name": "python",
   "nbconvert_exporter": "python",
   "pygments_lexer": "ipython3",
   "version": "3.12.0"
  }
 },
 "nbformat": 4,
 "nbformat_minor": 2
}
